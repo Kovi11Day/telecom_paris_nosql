{
 "cells": [
  {
   "cell_type": "code",
   "execution_count": null,
   "id": "0a6c9d1a",
   "metadata": {},
   "outputs": [],
   "source": [
    "import pandas as pd\n",
    "import numpy as np\n",
    "from pymongo.operations import UpdateMany, InsertOne\n",
    "from pymongo import MongoClient"
   ]
  },
  {
   "cell_type": "code",
   "execution_count": 1,
   "id": "0b9a544d",
   "metadata": {},
   "outputs": [],
   "source": [
    "def connect_mongodb_collection(host, port, database, collection):\n",
    "    mongo_client = MongoClient(host, port)\n",
    "    db = mongo_client[database]\n",
    "    collection = db[collection]\n",
    "    return collection"
   ]
  },
  {
   "cell_type": "code",
   "execution_count": null,
   "id": "2b352748",
   "metadata": {},
   "outputs": [],
   "source": [
    "mention_collection = connect_mongodb_collection(host='tp-hadoop-51', port=27017, database='final', collection='mention2')\n"
   ]
  },
  {
   "cell_type": "code",
   "execution_count": null,
   "id": "7de6e9a7",
   "metadata": {},
   "outputs": [],
   "source": [
    "df = pd.read_csv(\"http://data.gdeltproject.org/gdeltv2/masterfilelist-translation.txt\",\n",
    "                 delimiter = \" \",\n",
    "                 header= None,\n",
    "                 names = [\"ID1\",\"ID2\",\"URL\"]\n",
    "                )"
   ]
  },
  {
   "cell_type": "code",
   "execution_count": null,
   "id": "82ebb0a3",
   "metadata": {},
   "outputs": [],
   "source": [
    "# extraction de toutes les url des articles gkg de 2022\n",
    "df_gkg_list = df[df.URL.str.contains('202201[0-9]{8}.*gkg.csv',regex= True, na=False)]\n",
    "\n",
    "\n",
    "#pour chaque fichier de mention on charge le document CSV\n",
    "for i, gkg_url in enumerate(df_gkg_list.URL):\n",
    "    \n",
    "    # Chargements des données des mentions\n",
    "    gkg_colnames = [\"GKGRECORDID\",\"DATE\",\"SourceCollectionIdentifier\",\"SourceCommonName\",\"DocumentIdentifier\",\"Counts\",\"V2Counts\",\"Themes\",\"V2Themes\",\"Locations\",\"V2Locations\",\"Persons\",\"V2Persons\",\"Organizations\",\"V2Organizations\",\"V2Tone\",\"Dates\",\"GCAM\",\"SharingImage\",\"RelatedImages\",\"SocialImageEmbeds\",\"SocialVideoEmbeds\",\"Quotations\",\"AllNames\",\"Amounts\",\"TranslationInfo\",\"Extras\"]\n",
    "    gkg_cols_to_keep = ['GKGRECORDID', 'DATE', 'SourceCommonName', 'DocumentIdentifier', 'Themes', 'Persons', 'V2Tone', \"TranslationInfo\"]\n",
    "    df_gkg_data = pd.read_csv(gkg_url, sep=\"\\t\", names=gkg_colnames, usecols=gkg_cols_to_keep, header=None, encoding='latin')\n",
    "    #Supprime les lignes dupliquées\n",
    "    df_gkg_data = df_gkg_data.drop_duplicates()\n",
    "    \n",
    "    #nettoyage des df\n",
    "    df_gkg_data.TranslationInfo = df_gkg_data.TranslationInfo.str.extract(r'srclc:([a-z]{3})*')\n",
    "    df_gkg_data.Themes = df_gkg_data.Themes.str.split(\";\")\n",
    "    df_gkg_data.Persons = df_gkg_data.Persons.str.split(\";\")\n",
    "    df_gkg_data.V2Tone = df_gkg_data.V2Tone.str.split(\",\").str[0].astype(float)\n",
    "    \n",
    "    #on charge les données dans la base\n",
    "    json_gkg = df_gkg_data.to_dict('records')\n",
    "    requests = []\n",
    "    for article in json_gkg:\n",
    "        #mention_collection.update_many({\"MentionIdentifier\": article[\"DocumentIdentifier\"]}, {\"$set\" : {\"article\":article}})\n",
    "        requests.append(UpdateMany({\"MentionIdentifier\": article[\"DocumentIdentifier\"]}, {\"$set\" : {\"article\":article}}))\n",
    "    mention_collection.bulk_write(requests, ordered=False)\n",
    "    \n",
    "    if i % 500 == 0:\n",
    "        print(gkg_url)"
   ]
  }
 ],
 "metadata": {
  "kernelspec": {
   "display_name": "Python 3",
   "language": "python",
   "name": "python3"
  },
  "language_info": {
   "codemirror_mode": {
    "name": "ipython",
    "version": 3
   },
   "file_extension": ".py",
   "mimetype": "text/x-python",
   "name": "python",
   "nbconvert_exporter": "python",
   "pygments_lexer": "ipython3",
   "version": "3.8.8"
  }
 },
 "nbformat": 4,
 "nbformat_minor": 5
}
