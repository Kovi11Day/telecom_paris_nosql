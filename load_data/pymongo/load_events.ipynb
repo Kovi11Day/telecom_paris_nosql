{
 "cells": [
  {
   "cell_type": "code",
   "execution_count": null,
   "id": "0a6c9d1a",
   "metadata": {},
   "outputs": [],
   "source": [
    "import pandas as pd\n",
    "import numpy as np\n",
    "from pymongo.operations import UpdateMany, InsertOne\n",
    "from pymongo import MongoClient"
   ]
  },
  {
   "cell_type": "code",
   "execution_count": 1,
   "id": "0b9a544d",
   "metadata": {},
   "outputs": [],
   "source": [
    "def connect_mongodb_collection(host, port, database, collection):\n",
    "    mongo_client = MongoClient(host, port)\n",
    "    db = mongo_client[database]\n",
    "    collection = db[collection]\n",
    "    return collection"
   ]
  },
  {
   "cell_type": "code",
   "execution_count": null,
   "id": "2b352748",
   "metadata": {},
   "outputs": [],
   "source": [
    "mention_collection = connect_mongodb_collection(host='tp-hadoop-51', port=27017, database='final', collection='mention2')\n"
   ]
  },
  {
   "cell_type": "code",
   "execution_count": null,
   "id": "7de6e9a7",
   "metadata": {},
   "outputs": [],
   "source": [
    "df = pd.read_csv(\"http://data.gdeltproject.org/gdeltv2/masterfilelist-translation.txt\",\n",
    "                 delimiter = \" \",\n",
    "                 header= None,\n",
    "                 names = [\"ID1\",\"ID2\",\"URL\"]\n",
    "                )"
   ]
  },
  {
   "cell_type": "code",
   "execution_count": null,
   "id": "82ebb0a3",
   "metadata": {},
   "outputs": [],
   "source": [
    "# extraction de toutes les url des evenement de 2022\n",
    "df_event_list = df[df.URL.str.contains('202201[0-9]{8}.*export.CSV',regex= True, na=False)]\n",
    "\n",
    "#pour chaque fichier de mention on charge le document CSV\n",
    "for i, event_url in enumerate(df_event_list.URL):\n",
    "    \n",
    "    # Chargements des données des mentions\n",
    "    event_colnames = \"GLOBALEVENTID;SQLDATE;MonthYear;Year;FractionDate;Actor1Code;Actor1Name;Actor1CountryCode;Actor1KnownGroupCode;Actor1EthnicCode;Actor1Religion1Code;Actor1Religion2Code;Actor1Type1Code;Actor1Type2Code;Actor1Type3Code;Actor2Code;Actor2Name;Actor2CountryCode;Actor2KnownGroupCode;Actor2EthnicCode;Actor2Religion1Code;Actor2Religion2Code;Actor2Type1Code;Actor2Type2Code;Actor2Type3Code;IsRootEvent;EventCode;EventBaseCode;EventRootCode;QuadClass;GoldsteinScale;NumMentions;NumSources;NumArticles;AvgTone;Actor1Geo_Type;Actor1Geo_FullName;Actor1Geo_CountryCode;Actor1Geo_ADM1Code;Actor1Geo_ADM2Code;Actor1Geo_Lat;Actor1Geo_Long;Actor1Geo_FeatureID;Actor2Geo_Type;Actor2Geo_FullName;Actor2Geo_CountryCode;Actor2Geo_ADM1Code;Actor2Geo_ADM2Code;Actor2Geo_Lat;Actor2Geo_Long;Actor2Geo_FeatureID;ActionGeo_Type;ActionGeo_FullName;ActionGeo_CountryCode;ActionGeo_ADM1Code;ActionGeo_ADM2Code;ActionGeo_Lat;ActionGeo_Long;ActionGeo_FeatureID;DATEADDED;SOURCEURL\".split(\";\")\n",
    "    event_cols_to_keep = ['GLOBALEVENTID', 'SQLDATE', 'Actor1Geo_CountryCode', 'Actor2Geo_CountryCode', 'ActionGeo_CountryCode']\n",
    "    df_event_data = pd.read_csv(event_url, sep=\"\\t\", names=event_colnames, usecols= event_cols_to_keep, header=None, encoding='latin')\n",
    "        \n",
    "    #Supprime les lignes dupliquées\n",
    "    df_event_data = df_event_data.drop_duplicates()\n",
    "    \n",
    "    #nettoyage des df\n",
    "    df_event_data.SQLDATE = df_event_data.SQLDATE.astype(str)\n",
    "    \n",
    "    #on charge les données dans la base\n",
    "    json_event = df_event_data.to_dict('records')\n",
    "    \n",
    "    requests = []\n",
    "    for event in json_event:\n",
    "        #mention_collection.update_many({\"GLOBALEVENTID\": event[\"GLOBALEVENTID\"]}, {\"$set\" : {\"event\":event}})\n",
    "        requests.append(UpdateMany({\"GLOBALEVENTID\": event[\"GLOBALEVENTID\"]}, {\"$set\" : {\"event\":event}}))\n",
    "    mention_collection.bulk_write(requests, ordered=False)\n",
    "    \n",
    "    if i % 500 == 0:\n",
    "        print(event_url)\n",
    "        "
   ]
  }
 ],
 "metadata": {
  "kernelspec": {
   "display_name": "Python 3",
   "language": "python",
   "name": "python3"
  },
  "language_info": {
   "codemirror_mode": {
    "name": "ipython",
    "version": 3
   },
   "file_extension": ".py",
   "mimetype": "text/x-python",
   "name": "python",
   "nbconvert_exporter": "python",
   "pygments_lexer": "ipython3",
   "version": "3.8.8"
  }
 },
 "nbformat": 4,
 "nbformat_minor": 5
}
