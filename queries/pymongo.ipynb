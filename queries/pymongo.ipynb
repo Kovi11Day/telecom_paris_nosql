{
 "cells": [
  {
   "cell_type": "code",
   "execution_count": null,
   "id": "886361cb",
   "metadata": {},
   "outputs": [],
   "source": [
    "! pip install sshtunnel\n",
    "! pip install pymongo"
   ]
  },
  {
   "cell_type": "code",
   "execution_count": 1,
   "id": "4ca70b59",
   "metadata": {},
   "outputs": [],
   "source": [
    "import pandas as pd\n",
    "import numpy as np\n",
    "\n",
    "import plotly.express as px\n",
    "\n",
    "from sshtunnel import SSHTunnelForwarder\n",
    "import pymongo\n",
    "from pymongo.operations import UpdateMany, InsertOne"
   ]
  },
  {
   "cell_type": "markdown",
   "id": "cb6010eb",
   "metadata": {},
   "source": [
    "### Classe de connection à la base MongoDB"
   ]
  },
  {
   "cell_type": "code",
   "execution_count": 2,
   "id": "2a31c178",
   "metadata": {},
   "outputs": [],
   "source": [
    "class Connection_MongoDB:\n",
    "\n",
    "    def __init__(self, bridge_host=\"137.194.211.146\", bridge_username=\"ubuntu\", remote_server_name=\"tp-hadoop-51\", remote_server_port=27017):\n",
    "        self.server = SSHTunnelForwarder(\n",
    "            bridge_host,#\"137.194.211.146\",\n",
    "            ssh_username=bridge_username,#\"ubuntu\",\n",
    "            remote_bind_address=(remote_server_name,remote_server_port)#(\"tp-hadoop-51\", 27017),\n",
    "            #local_bind_address=('127.0.0.1', 10022)\n",
    "        ) \n",
    "        self.server.start()\n",
    "        self.session = pymongo.MongoClient(self.server.local_bind_hosts[0], self.server.local_bind_port)\n",
    "    \n",
    "    def __del__(self):\n",
    "        self.server.stop()\n",
    "        \n",
    "    def get_collection(self, db_name = \"test\", collection_name=\"events\"):\n",
    "        db = self.session[db_name]\n",
    "        self.collection = db[collection_name]\n",
    "        return self\n",
    "    \n",
    "    def find(self, request):\n",
    "        return self.collection.find(request)\n",
    "    \n",
    "    def aggregate(self, request):\n",
    "        return self.collection.aggregate(request, allowDiskUse=True)\n",
    "    \n",
    "    def insert_many(self, request):\n",
    "        return self.collection.insert_many(request)\n",
    "    \n",
    "    def remove_all(self):\n",
    "        return self.collection.delete_many( { } )\n",
    "    \n",
    "    def create_index(self, fields, unique=True):\n",
    "        return self.collection.create_index(fields, unique=unique)\n",
    "    \n",
    "    def update_many(self, filter_request, update_request):\n",
    "        return self.collection.update_many(filter_request, update_request)\n",
    "    \n",
    "    def bulk_write(self, requests, ordered=False):\n",
    "        return self.collection.bulk_write(requests, ordered=ordered)\n",
    "    \n",
    "    \n",
    "mention_collection = Connection_MongoDB().get_collection(db_name = \"final\", collection_name=\"mention2\")"
   ]
  },
  {
   "cell_type": "markdown",
   "id": "912e414d",
   "metadata": {},
   "source": [
    "### Chargement des données dans la base"
   ]
  },
  {
   "cell_type": "code",
   "execution_count": null,
   "id": "348ed11e",
   "metadata": {},
   "outputs": [],
   "source": [
    "# création des index pour le chargement\n",
    "mention_collection.create_index([(\"MentionIdentifier\", 1) ], unique=False )\n",
    "mention_collection.create_index([(\"GLOBALEVENTID\", 1) ], unique=False )"
   ]
  },
  {
   "cell_type": "code",
   "execution_count": null,
   "id": "9587a100",
   "metadata": {},
   "outputs": [],
   "source": [
    "df = pd.read_csv(\"http://data.gdeltproject.org/gdeltv2/masterfilelist-translation.txt\",\n",
    "                 delimiter = \" \",\n",
    "                 header= None,\n",
    "                 names = [\"ID1\",\"ID2\",\"URL\"]\n",
    "                )"
   ]
  },
  {
   "cell_type": "markdown",
   "id": "a46c8cd6",
   "metadata": {},
   "source": [
    "#### Ajout des mentions"
   ]
  },
  {
   "cell_type": "code",
   "execution_count": null,
   "id": "56297020",
   "metadata": {},
   "outputs": [],
   "source": [
    "%%time\n",
    "\n",
    "# extraction de toutes les url des mentions de janvier à mars 2022\n",
    "df_mention_list = df[df.URL.str.contains('2022[0-9]{10}.*mentions.CSV',regex= True, na=False)]\n",
    "\n",
    "#pour chaque fichier de mention on charge le document CSV\n",
    "for i, mention_url in enumerate(df_mention_list.URL):\n",
    "    try:\n",
    "        if i % 500 == 0:\n",
    "            print(mention_url)\n",
    "        #    break\n",
    "\n",
    "        # Chargements des données des mentions\n",
    "        mention_colnames = [\"GLOBALEVENTID\",\"EventTimeDate\",\"MentionTimeDate\",\"MentionType\",\"MentionSourceName\",\"MentionIdentifier\",\"SentenceID\",\"Actor1CharOffset\",\"Actor2CharOffset\",\"ActionCharOffset\",\"InRawText\",\"Confidence\",\"MentionDocLen\",\"MentionDocTone\",\"MentionDocTranslationInfo\",\"Extras\"]\n",
    "        mention_cols_to_keep = ['GLOBALEVENTID', 'MentionTimeDate', 'MentionIdentifier']\n",
    "        df_mention_data = pd.read_csv(mention_url, sep=\"\\t\", names=mention_colnames, usecols=mention_cols_to_keep, header=None, encoding='latin')\n",
    "\n",
    "        #Supprime les lignes dupliquées\n",
    "        df_mention_data = df_mention_data.drop_duplicates()\n",
    "\n",
    "        #on charge les données dans la base\n",
    "        json_mention = df_mention_data.to_dict('records')\n",
    "        #mention_collection.insert_many(json_mention)\n",
    "        requests = []\n",
    "        for m in json_mention:\n",
    "            requests.append(InsertOne(m))\n",
    "        mention_collection.bulk_write(requests, ordered=False)\n",
    "    except:\n",
    "        print(\"Probleme\",mention_url)"
   ]
  },
  {
   "cell_type": "markdown",
   "id": "8586b3f7",
   "metadata": {},
   "source": [
    "#### Ajout des articles GKG (jointure par update)"
   ]
  },
  {
   "cell_type": "code",
   "execution_count": null,
   "id": "56d5fff1",
   "metadata": {},
   "outputs": [],
   "source": [
    "%%time\n",
    "\n",
    "# extraction de toutes les url des articles gkg de 2022\n",
    "df_gkg_list = df[df.URL.str.contains('2022[0-9]{10}.*gkg.csv',regex= True, na=False)]\n",
    "\n",
    "\n",
    "#pour chaque fichier de mention on charge le document CSV\n",
    "for i, gkg_url in enumerate(df_gkg_list.URL):\n",
    "    \n",
    "    try:\n",
    "        if i % 500 == 0:\n",
    "            print(gkg_url)\n",
    "\n",
    "        # Chargements des données des mentions\n",
    "        gkg_colnames = [\"GKGRECORDID\",\"DATE\",\"SourceCollectionIdentifier\",\"SourceCommonName\",\"DocumentIdentifier\",\"Counts\",\"V2Counts\",\"Themes\",\"V2Themes\",\"Locations\",\"V2Locations\",\"Persons\",\"V2Persons\",\"Organizations\",\"V2Organizations\",\"V2Tone\",\"Dates\",\"GCAM\",\"SharingImage\",\"RelatedImages\",\"SocialImageEmbeds\",\"SocialVideoEmbeds\",\"Quotations\",\"AllNames\",\"Amounts\",\"TranslationInfo\",\"Extras\"]\n",
    "        gkg_cols_to_keep = ['GKGRECORDID', 'DATE', 'SourceCommonName', 'DocumentIdentifier', 'Themes', 'Persons', 'V2Tone', \"TranslationInfo\"]\n",
    "        df_gkg_data = pd.read_csv(gkg_url, sep=\"\\t\", names=gkg_colnames, usecols=gkg_cols_to_keep, header=None, encoding='latin')\n",
    "        #Supprime les lignes dupliquées\n",
    "        df_gkg_data = df_gkg_data.drop_duplicates()\n",
    "\n",
    "        #nettoyage des df\n",
    "        df_gkg_data.TranslationInfo = df_gkg_data.TranslationInfo.str.extract(r'srclc:([a-z]{3}).*')\n",
    "        df_gkg_data.Themes = df_gkg_data.Themes.str.split(\";\")\n",
    "        df_gkg_data.Persons = df_gkg_data.Persons.str.split(\";\")\n",
    "        df_gkg_data.V2Tone = df_gkg_data.V2Tone.str.split(\",\").str[0].astype(float)\n",
    "\n",
    "        #on charge les données dans la base\n",
    "        json_gkg = df_gkg_data.to_dict('records')\n",
    "        requests = []\n",
    "        for article in json_gkg:\n",
    "            #mention_collection.update_many({\"MentionIdentifier\": article[\"DocumentIdentifier\"]}, {\"$set\" : {\"article\":article}})\n",
    "            requests.append(UpdateMany({\"MentionIdentifier\": article[\"DocumentIdentifier\"]}, {\"$set\" : {\"article\":article}}))\n",
    "        mention_collection.bulk_write(requests, ordered=False)\n",
    "    except:\n",
    "        print(\"probleme\",gkg_url)"
   ]
  },
  {
   "cell_type": "markdown",
   "id": "77636de1",
   "metadata": {},
   "source": [
    "#### Ajout des événement (jointure par update)"
   ]
  },
  {
   "cell_type": "code",
   "execution_count": null,
   "id": "e61661b9",
   "metadata": {},
   "outputs": [],
   "source": [
    "%%time\n",
    "\n",
    "# extraction de toutes les url des evenement de 2022\n",
    "df_event_list = df[df.URL.str.contains('2022[0-9]{10}.*export.CSV',regex= True, na=False)]\n",
    "\n",
    "#pour chaque fichier de mention on charge le document CSV\n",
    "for i, event_url in enumerate(df_event_list.URL):\n",
    "    try:\n",
    "        if i % 500 == 0:\n",
    "            print(event_url)\n",
    "\n",
    "        # Chargements des données des mentions\n",
    "        event_colnames = \"GLOBALEVENTID;SQLDATE;MonthYear;Year;FractionDate;Actor1Code;Actor1Name;Actor1CountryCode;Actor1KnownGroupCode;Actor1EthnicCode;Actor1Religion1Code;Actor1Religion2Code;Actor1Type1Code;Actor1Type2Code;Actor1Type3Code;Actor2Code;Actor2Name;Actor2CountryCode;Actor2KnownGroupCode;Actor2EthnicCode;Actor2Religion1Code;Actor2Religion2Code;Actor2Type1Code;Actor2Type2Code;Actor2Type3Code;IsRootEvent;EventCode;EventBaseCode;EventRootCode;QuadClass;GoldsteinScale;NumMentions;NumSources;NumArticles;AvgTone;Actor1Geo_Type;Actor1Geo_FullName;Actor1Geo_CountryCode;Actor1Geo_ADM1Code;Actor1Geo_ADM2Code;Actor1Geo_Lat;Actor1Geo_Long;Actor1Geo_FeatureID;Actor2Geo_Type;Actor2Geo_FullName;Actor2Geo_CountryCode;Actor2Geo_ADM1Code;Actor2Geo_ADM2Code;Actor2Geo_Lat;Actor2Geo_Long;Actor2Geo_FeatureID;ActionGeo_Type;ActionGeo_FullName;ActionGeo_CountryCode;ActionGeo_ADM1Code;ActionGeo_ADM2Code;ActionGeo_Lat;ActionGeo_Long;ActionGeo_FeatureID;DATEADDED;SOURCEURL\".split(\";\")\n",
    "        event_cols_to_keep = ['GLOBALEVENTID', 'SQLDATE', 'Actor1Geo_CountryCode', 'Actor2Geo_CountryCode', 'ActionGeo_CountryCode']\n",
    "        df_event_data = pd.read_csv(event_url, sep=\"\\t\", names=event_colnames, usecols= event_cols_to_keep, header=None, encoding='latin')\n",
    "\n",
    "        #Supprime les lignes dupliquées\n",
    "        df_event_data = df_event_data.drop_duplicates()\n",
    "\n",
    "        #nettoyage des df\n",
    "        df_event_data.SQLDATE = df_event_data.SQLDATE.astype(str)\n",
    "\n",
    "        #on charge les données dans la base\n",
    "        json_event = df_event_data.to_dict('records')\n",
    "\n",
    "        requests = []\n",
    "        for event in json_event:\n",
    "            #mention_collection.update_many({\"GLOBALEVENTID\": event[\"GLOBALEVENTID\"]}, {\"$set\" : {\"event\":event}})\n",
    "            requests.append(UpdateMany({\"GLOBALEVENTID\": event[\"GLOBALEVENTID\"]}, {\"$set\" : {\"event\":event}}))\n",
    "        mention_collection.bulk_write(requests, ordered=False)\n",
    "    except:\n",
    "        print(\"probleme\",event_url)"
   ]
  },
  {
   "cell_type": "markdown",
   "id": "e3b461ab",
   "metadata": {},
   "source": [
    "### Requetage"
   ]
  },
  {
   "cell_type": "markdown",
   "id": "fbe03fcd",
   "metadata": {},
   "source": [
    "**QUESTION 1:** afficher le nombre d’articles/évènements qu’il y a eu pour chaque triplet (jour, pays de l’évènement, langue de l’article)."
   ]
  },
  {
   "cell_type": "code",
   "execution_count": null,
   "id": "35e99e0d",
   "metadata": {},
   "outputs": [],
   "source": [
    "mention_collection.create_index([(\"event.SQLDATE\", 1),(\"event.ActionGeo_CountryCode\", 1),\n",
    "                                 (\"article.TranslationInfo\", 1) ], unique=False )"
   ]
  },
  {
   "cell_type": "code",
   "execution_count": null,
   "id": "c07f4f41",
   "metadata": {},
   "outputs": [],
   "source": [
    "%%time\n",
    "\n",
    "def get_nb_article_event(collection):\n",
    "    result = collection.aggregate([\n",
    "        { \"$match\" : { \"event.SQLDATE\" : {\"$regex\":\"2022010[0-9]{1}\"}} },\n",
    "        { \"$group\" : { \"_id\" : { \"date\" : \"$event.SQLDATE\", \n",
    "                                \"pays\" : \"$event.ActionGeo_CountryCode\", \n",
    "                                \"langue\":\"$article.TranslationInfo\" }, \n",
    "                      \"unique_article\": {\"$addToSet\": \"$MentionIdentifier\"}, \n",
    "                      \"unique_event\": {\"$addToSet\": \"$GLOBALEVENTID\"} \n",
    "                     } \n",
    "        },\n",
    "        { \"$project\" : { \"date\" : \"$_id.date\", \n",
    "                        \"pays\" : \"$_id.pays\", \n",
    "                        \"langue\":\"$_id.langue\", \n",
    "                        \"nb_distinct_article\" : {\"$size\":\"$unique_article\"}, \n",
    "                        \"nb_distinct_event\" : {\"$size\":\"$unique_event\"} \n",
    "                       } \n",
    "        }\n",
    "    ])\n",
    "    return pd.DataFrame(list(result))\n",
    "\n",
    "get_nb_article_event(mention_collection)"
   ]
  },
  {
   "cell_type": "markdown",
   "id": "6b7af1c7",
   "metadata": {},
   "source": [
    "**QUESTION 2:** pour un pays donné en paramètre, affichez les évènements qui y ont eu place triées par le nombre de mentions (tri décroissant); permettez une agrégation par jour/mois/année"
   ]
  },
  {
   "cell_type": "code",
   "execution_count": null,
   "id": "dd3459ae",
   "metadata": {},
   "outputs": [],
   "source": [
    "mention_collection.create_index([(\"event.ActionGeo_CountryCode\", 1)], unique=False )\n",
    "\n",
    "mention_collection.create_index([(\"event.GLOBALEVENTID\", 1),(\"event.SQLDATE\", 1) ], unique=False )\n"
   ]
  },
  {
   "cell_type": "code",
   "execution_count": 5,
   "id": "bd602efb",
   "metadata": {},
   "outputs": [
    {
     "name": "stdout",
     "output_type": "stream",
     "text": [
      "CPU times: user 3.97 ms, sys: 2.38 ms, total: 6.35 ms\n",
      "Wall time: 25.6 ms\n"
     ]
    },
    {
     "data": {
      "text/html": [
       "<div>\n",
       "<style scoped>\n",
       "    .dataframe tbody tr th:only-of-type {\n",
       "        vertical-align: middle;\n",
       "    }\n",
       "\n",
       "    .dataframe tbody tr th {\n",
       "        vertical-align: top;\n",
       "    }\n",
       "\n",
       "    .dataframe thead th {\n",
       "        text-align: right;\n",
       "    }\n",
       "</style>\n",
       "<table border=\"1\" class=\"dataframe\">\n",
       "  <thead>\n",
       "    <tr style=\"text-align: right;\">\n",
       "      <th></th>\n",
       "    </tr>\n",
       "  </thead>\n",
       "  <tbody>\n",
       "  </tbody>\n",
       "</table>\n",
       "</div>"
      ],
      "text/plain": [
       "Empty DataFrame\n",
       "Columns: []\n",
       "Index: []"
      ]
     },
     "execution_count": 5,
     "metadata": {},
     "output_type": "execute_result"
    }
   ],
   "source": [
    "%%time\n",
    "\n",
    "def find_events_from_country(collection, country=\"FR\", time_granularity=\"day\"):\n",
    "    date_format=\"%Y-%m-%d\"\n",
    "    if time_granularity == \"month\":\n",
    "        date_format=\"%Y-%m\"\n",
    "    if time_granularity == \"year\":\n",
    "        date_format=\"%Y\"\n",
    "        \n",
    "    result = collection.aggregate([\n",
    "        { \"$match\" : { \"event.ActionGeo_CountryCode\" : country } },\n",
    "        { \"$group\" : { \"_id\" : {\"eventID\": \"$event.GLOBALEVENTID\",\n",
    "                                \"date\":{ \"$dateToString\": { \"format\": date_format, \"date\":{\"$dateFromString\":{\n",
    "                                    \"dateString\": \"$event.SQLDATE\", \"format\": \"%Y%m%d\"}}}}\n",
    "                               }, \n",
    "                      \"count_mention\":{ \"$sum\": 1} \n",
    "                     }\n",
    "        }, \n",
    "        { \"$project\" : {\"_id\" : 0,\n",
    "                        \"eventID\":\"$_id.eventID\", \n",
    "                        \"date\": \"$_id.date\",\n",
    "                        \"count_mention\": { \"$sum\": \"$count_mention\"} \n",
    "                       }\n",
    "        },\n",
    "        {\"$sort\": {\"count_mention\": -1}}\n",
    "    ])\n",
    "    return pd.DataFrame(list(result))\n",
    "\n",
    "df_events_from_country = find_events_from_country(mention_collection, country=\"FR\", time_granularity=\"month\")\n",
    "df_events_from_country"
   ]
  },
  {
   "cell_type": "code",
   "execution_count": null,
   "id": "e1bf98e8",
   "metadata": {},
   "outputs": [],
   "source": [
    "fig = px.bar(df_events_from_country, x=\"date\", y=\"count_mention\", color=\"count_mention\", hover_name=\"eventID\")\n",
    "fig.show()"
   ]
  },
  {
   "cell_type": "markdown",
   "id": "fa4a4c77",
   "metadata": {},
   "source": [
    "**QUESTION 3 :** pour une source de donnés passée en paramètre (gkg.SourceCommonName) affichez les thèmes, personnes, lieux dont les articles de cette sources parlent ainsi que le nombre d’articles et le ton moyen des articles (pour chaque thème/personne/lieu); permettez une agrégation par jour/mois/année."
   ]
  },
  {
   "cell_type": "code",
   "execution_count": null,
   "id": "47384b9b",
   "metadata": {},
   "outputs": [],
   "source": [
    "mention_collection.create_index([(\"article.SourceCommonName\", 1)], unique=False )"
   ]
  },
  {
   "cell_type": "code",
   "execution_count": null,
   "id": "102221ac",
   "metadata": {},
   "outputs": [],
   "source": [
    "%%time\n",
    "\n",
    "def article_from_source(collection, source_name= \"pardubickenovinky.cz\" , time_granularity=\"day\"):\n",
    "    date_format=\"%Y-%m-%d\"\n",
    "    if time_granularity == \"month\":\n",
    "        date_format=\"%Y-%m\"\n",
    "    if time_granularity == \"year\":\n",
    "        date_format=\"%Y\"\n",
    "        \n",
    "    result = collection.aggregate([\n",
    "        { \"$match\" : { \"article.SourceCommonName\" : source_name } },\n",
    "        { \"$unwind\": { \"path\": \"$article.Themes\", \"preserveNullAndEmptyArrays\": False } },\n",
    "        { \"$unwind\": { \"path\": \"$article.Persons\", \"preserveNullAndEmptyArrays\": False } },\n",
    "        { \"$group\" : { \"_id\" : {\"date\":{ \"$dateToString\": { \"format\": date_format, \"date\": {\"$dateFromString\":{\n",
    "            \"dateString\": {\"$toString\": {\"$toLong\" : \"$article.DATE\" }}, \"format\": \"%Y%m%d%H%M%S\"}}}},\n",
    "                                \"theme\":\"$article.Themes\",\n",
    "                                \"person\":\"$article.Persons\",\n",
    "                                \"lieu\": \"$event.ActionGeo_CountryCode\"\n",
    "                               }, \n",
    "                      \"unique_article\": {\"$addToSet\": \"$article.GKGRECORDID\"},\n",
    "                      \"V2Tone_list\": { \"$push\" : \"$article.V2Tone\"}\n",
    "                     }\n",
    "        }, \n",
    "        { \"$project\" : {\"_id\" : 0,\n",
    "                        \"date\": \"$_id.date\",\n",
    "                        \"theme\":\"$_id.theme\",\n",
    "                        \"person\":\"$_id.person\",\n",
    "                        \"lieu\": \"$_id.lieu\",\n",
    "                        \"nb_distinct_article\" : {\"$size\":\"$unique_article\"},\n",
    "                        \"mean_V2Tone\" : { \"$avg\" : \"$V2Tone_list\"}\n",
    "                       }\n",
    "        }\n",
    "    ])\n",
    "    return pd.DataFrame(list(result))\n",
    "       \n",
    "df_article_from_source = article_from_source(mention_collection, source_name=\"lefigaro.fr\" , time_granularity=\"month\")\n",
    "df_article_from_source"
   ]
  },
  {
   "cell_type": "code",
   "execution_count": null,
   "id": "5cb550c3",
   "metadata": {},
   "outputs": [],
   "source": []
  },
  {
   "cell_type": "code",
   "execution_count": null,
   "id": "36370a30",
   "metadata": {},
   "outputs": [],
   "source": []
  },
  {
   "cell_type": "markdown",
   "id": "d4d1addc",
   "metadata": {},
   "source": [
    "**QUESTION 4 :** Etudiez l’évolution des relations entre deux pays (specifiés en paramètre) au cours de l’année. Vous pouvez vous baser sur la langue de l’article, le ton moyen des articles, les themes plus souvent citées, les personnalités ou tout élément qui vous semble pertinent."
   ]
  },
  {
   "cell_type": "code",
   "execution_count": null,
   "id": "f927fba3",
   "metadata": {},
   "outputs": [],
   "source": [
    "mention_collection.create_index([(\"event.Actor1Geo_CountryCode\", 1),\n",
    "                                 (\"event.Actor2Geo_CountryCode\", 1) ], unique=False )"
   ]
  },
  {
   "cell_type": "code",
   "execution_count": null,
   "id": "21b3d407",
   "metadata": {},
   "outputs": [],
   "source": [
    "%%time\n",
    "\n",
    "def evolution_relation(collection, pays_A=\"RS\", pays_B=\"UP\"):\n",
    "    result = collection.aggregate([\n",
    "        { \"$match\": {\"$or\" : [{ 'event.Actor1Geo_CountryCode': pays_A, 'event.Actor2Geo_CountryCode':pays_B },\n",
    "                              { 'event.Actor1Geo_CountryCode': pays_B, 'event.Actor2Geo_CountryCode':pays_A }\n",
    "                             ]\n",
    "                    }\n",
    "        },\n",
    "        { \"$group\" : { \"_id\" : {\"actor1\": \"$event.Actor1Geo_CountryCode\",\n",
    "                                \"date\": { \"$dateToString\": { \"format\": \"%Y-%m-%d\", \"date\": {\"$dateFromString\":{\n",
    "                                    \"dateString\": {\"$toString\": {\"$toLong\" : \"$article.DATE\" }}, \"format\": \"%Y%m%d%H%M%S\"}}}}\n",
    "                               },\n",
    "                      \"V2Tone_list\": { \"$push\" : \"$article.V2Tone\"}\n",
    "                     }\n",
    "        },\n",
    "        { \"$project\" : {\"actor1\":\"$_id.actor1\", \n",
    "                        \"date\": \"$_id.date\",\n",
    "                        \"mean_V2Tone\": {\"$avg\" : \"$V2Tone_list\"},\n",
    "                        \"_id\" : 0 \n",
    "                       }\n",
    "        },\n",
    "        {\"$sort\": {\"date\": 1}}\n",
    "    ])\n",
    "    return pd.DataFrame(list(result))\n",
    "\n",
    "df_evolution_relation = evolution_relation(mention_collection, pays_A=\"UP\", pays_B=\"RS\")\n",
    "df_evolution_relation"
   ]
  },
  {
   "cell_type": "code",
   "execution_count": null,
   "id": "dd523de6",
   "metadata": {},
   "outputs": [],
   "source": [
    "fig = px.line(df_evolution_relation, x=\"date\", y=\"mean_V2Tone\", color=\"actor1\", hover_name=\"actor1\")\n",
    "fig.show()"
   ]
  }
 ],
 "metadata": {
  "kernelspec": {
   "display_name": "Python 3",
   "language": "python",
   "name": "python3"
  },
  "language_info": {
   "codemirror_mode": {
    "name": "ipython",
    "version": 3
   },
   "file_extension": ".py",
   "mimetype": "text/x-python",
   "name": "python",
   "nbconvert_exporter": "python",
   "pygments_lexer": "ipython3",
   "version": "3.8.8"
  }
 },
 "nbformat": 4,
 "nbformat_minor": 5
}
